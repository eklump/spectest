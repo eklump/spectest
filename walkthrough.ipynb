{
 "metadata": {
  "language_info": {
   "codemirror_mode": {
    "name": "ipython",
    "version": 3
   },
   "file_extension": ".py",
   "mimetype": "text/x-python",
   "name": "python",
   "nbconvert_exporter": "python",
   "pygments_lexer": "ipython3",
   "version": "3.8.2"
  },
  "orig_nbformat": 4,
  "kernelspec": {
   "name": "python3",
   "display_name": "Python 3.8.2 64-bit ('spectest-3.8.2': pyenv)"
  },
  "interpreter": {
   "hash": "11b7988afd0da4dcb21756892df5863284a35dde2e5e234f9e08dcdb9ba0aec6"
  }
 },
 "nbformat": 4,
 "nbformat_minor": 2,
 "cells": [
  {
   "cell_type": "markdown",
   "source": [
    "## Check DB!"
   ],
   "metadata": {}
  },
  {
   "cell_type": "code",
   "execution_count": null,
   "source": [
    "import os\n",
    "import yaml\n",
    "import subprocess\n",
    "import json\n",
    "\n",
    "MELTANO_TEST_DIR='meltano-test'\n",
    "\n",
    "def quick_subprocess(command):\n",
    "    subprocess.run(command.split(' '))\n",
    "    "
   ],
   "outputs": [],
   "metadata": {}
  },
  {
   "cell_type": "code",
   "execution_count": null,
   "source": [
    "!pip install git+https://gitlab.com/meltano/tap-gitlab.git"
   ],
   "outputs": [],
   "metadata": {}
  },
  {
   "cell_type": "code",
   "execution_count": null,
   "source": [
    "quick_subprocess('tap-gitlab -c gitlab-config.json')"
   ],
   "outputs": [],
   "metadata": {}
  },
  {
   "cell_type": "code",
   "execution_count": null,
   "source": [
    "with open(\"gitlab-config.json\", 'r') as f:\n",
    "    tap_gitlab_config = json.loads(f.read())\n",
    "\n",
    "print(json.dumps(tap_gitlab_config, indent=4))"
   ],
   "outputs": [],
   "metadata": {}
  },
  {
   "cell_type": "markdown",
   "source": [
    "## So what's the problem?\n",
    "#### - how do you know what config is needed? Specificiation doesn't require disclosing so you're at the whims of the connector maintainer\n",
    "#### - how do you know what you can select from the tap in terms of entities/fields?\n",
    "#### - how do you manage secrets when you *HAVE* to pass the configs in a file?"
   ],
   "metadata": {}
  },
  {
   "cell_type": "code",
   "execution_count": null,
   "source": [
    "quick_subprocess(f'meltano init {MELTANO_TEST_DIR}')"
   ],
   "outputs": [],
   "metadata": {}
  },
  {
   "cell_type": "code",
   "execution_count": null,
   "source": [
    "os.chdir(MELTANO_TEST_DIR)"
   ],
   "outputs": [],
   "metadata": {}
  },
  {
   "cell_type": "code",
   "execution_count": null,
   "source": [
    "def get_meltano_config():\n",
    "    with open(\"meltano.yml\", 'r') as f:\n",
    "        return yaml.load(f, Loader=yaml.Loader)\n",
    "\n",
    "print(yaml.dump(get_meltano_config()))"
   ],
   "outputs": [],
   "metadata": {}
  },
  {
   "cell_type": "code",
   "execution_count": null,
   "source": [
    "quick_subprocess('meltano discover extractors')"
   ],
   "outputs": [],
   "metadata": {}
  },
  {
   "cell_type": "code",
   "execution_count": null,
   "source": [
    "quick_subprocess('meltano add extractor tap-gitlab')"
   ],
   "outputs": [],
   "metadata": {}
  },
  {
   "cell_type": "code",
   "execution_count": null,
   "source": [
    "print(yaml.dump(get_meltano_config()))"
   ],
   "outputs": [],
   "metadata": {}
  },
  {
   "cell_type": "code",
   "execution_count": null,
   "source": [
    "quick_subprocess('meltano invoke tap-gitlab --help')"
   ],
   "outputs": [],
   "metadata": {}
  },
  {
   "cell_type": "code",
   "execution_count": null,
   "source": [
    "quick_subprocess('tap-gitlab --help')"
   ],
   "outputs": [],
   "metadata": {}
  },
  {
   "cell_type": "code",
   "execution_count": null,
   "source": [
    "quick_subprocess('meltano config tap-gitlab list')\n",
    "## THIS IS A MELTANO SPECIFIC THING!!!!!!"
   ],
   "outputs": [],
   "metadata": {}
  },
  {
   "cell_type": "code",
   "execution_count": null,
   "source": [
    "subprocess.run(['meltano', 'config', 'tap-gitlab', 'set', 'projects', '\"meltano/meltano meltano/tap-gitlab\"'])"
   ],
   "outputs": [],
   "metadata": {}
  },
  {
   "cell_type": "code",
   "execution_count": null,
   "source": [
    "print(yaml.dump(get_meltano_config()))"
   ],
   "outputs": [],
   "metadata": {}
  },
  {
   "cell_type": "code",
   "execution_count": null,
   "source": [
    "quick_subprocess('meltano config tap-gitlab set start_date 2021-07-18T00:00:00Z')"
   ],
   "outputs": [],
   "metadata": {}
  },
  {
   "cell_type": "code",
   "execution_count": null,
   "source": [
    "quick_subprocess('meltano config tap-gitlab')"
   ],
   "outputs": [],
   "metadata": {}
  },
  {
   "cell_type": "code",
   "execution_count": null,
   "source": [
    "quick_subprocess('meltano select tap-gitlab --list --all')"
   ],
   "outputs": [],
   "metadata": {}
  },
  {
   "cell_type": "code",
   "execution_count": null,
   "source": [
    "commands = [\n",
    "    'meltano select tap-gitlab commits id',\n",
    "    'meltano select tap-gitlab commits project_id',\n",
    "    'meltano select tap-gitlab commits created_at',\n",
    "    'meltano select tap-gitlab commits author_name',\n",
    "    'meltano select tap-gitlab commits message',\n",
    "    'meltano select tap-gitlab tags \"*\"',\n",
    "    'meltano select tap-gitlab --exclude \"*\" \"*_url\"'\n",
    "]\n",
    "for command in commands:\n",
    "    quick_subprocess(command)"
   ],
   "outputs": [],
   "metadata": {}
  },
  {
   "cell_type": "code",
   "execution_count": null,
   "source": [
    "print(yaml.dump(get_meltano_config()))"
   ],
   "outputs": [],
   "metadata": {}
  },
  {
   "cell_type": "code",
   "execution_count": null,
   "source": [
    "quick_subprocess('meltano discover loaders')"
   ],
   "outputs": [],
   "metadata": {}
  },
  {
   "cell_type": "code",
   "execution_count": null,
   "source": [
    "!export LDFLAGS=\"-L/usr/local/opt/openssl/lib\"\n",
    "!export CPPFLAGS=\"-I/usr/local/opt/openssl/include\"\n",
    "!meltano add loader target-postgres"
   ],
   "outputs": [],
   "metadata": {}
  },
  {
   "cell_type": "code",
   "execution_count": null,
   "source": [
    "quick_subprocess('meltano invoke target-postgres --help')"
   ],
   "outputs": [],
   "metadata": {}
  },
  {
   "cell_type": "code",
   "execution_count": null,
   "source": [
    "commands = [\n",
    "    'meltano config target-postgres set postgres_host localhost',\n",
    "    'meltano config target-postgres set postgres_port 5432',\n",
    "    'meltano config target-postgres set postgres_username meltano',\n",
    "    'meltano config target-postgres set postgres_password meltano',\n",
    "    'meltano config target-postgres set postgres_database warehouse',\n",
    "    'meltano config target-postgres set postgres_schema public'\n",
    "]\n",
    "for command in commands:\n",
    "    quick_subprocess(command)"
   ],
   "outputs": [],
   "metadata": {}
  },
  {
   "cell_type": "code",
   "execution_count": null,
   "source": [
    "print(yaml.dump(get_meltano_config()))"
   ],
   "outputs": [],
   "metadata": {}
  },
  {
   "cell_type": "code",
   "execution_count": null,
   "source": [
    "quick_subprocess('meltano config target-postgres')"
   ],
   "outputs": [],
   "metadata": {}
  },
  {
   "cell_type": "code",
   "execution_count": null,
   "source": [
    "quick_subprocess('meltano elt tap-gitlab target-postgres --job_id=gitlab-to-postgres')"
   ],
   "outputs": [],
   "metadata": {}
  },
  {
   "cell_type": "code",
   "execution_count": null,
   "source": [],
   "outputs": [],
   "metadata": {}
  }
 ]
}